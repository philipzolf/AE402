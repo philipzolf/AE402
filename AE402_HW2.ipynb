{
 "cells": [
  {
   "cell_type": "markdown",
   "id": "aeca833c",
   "metadata": {},
   "source": [
    "# Question 1"
   ]
  },
  {
   "cell_type": "code",
   "execution_count": null,
   "id": "b276895c",
   "metadata": {},
   "outputs": [],
   "source": [
    "# Orbital parameter calculations for the problem\n",
    "# Given values\n",
    "mu = 398600.0             # km^3/s^2\n",
    "R_earth = 6378.0          # km\n",
    "h_perigee_alt = 450.0     # km\n",
    "r_p = R_earth + h_perigee_alt\n",
    "v_p = 9.5                 # km/s\n",
    "\n",
    "# (a) Semimajor axis a using vis-viva / specific orbital energy\n",
    "epsilon = 0.5 * v_p**2 - mu / r_p\n",
    "a = -mu / (2 * epsilon)\n",
    "\n",
    "# (b) Eccentricity e from perigee relation\n",
    "e = 1 - r_p / a\n",
    "\n",
    "# (c) Specific angular momentum h (at perigee velocity is transverse)\n",
    "h = r_p * v_p\n",
    "\n",
    "# Helper: semilatus rectum\n",
    "p = a * (1 - e**2)\n",
    "\n",
    "# (d) Radius and altitude at true anomaly f = 120 deg\n",
    "import math\n",
    "f_deg = 120.0\n",
    "f = math.radians(f_deg)\n",
    "r_f = p / (1 + e * math.cos(f))\n",
    "alt_f = r_f - R_earth\n",
    "\n",
    "# (e) Flight-path angle gamma at f = 120 deg\n",
    "tan_gamma = (e * math.sin(f)) / (1 + e * math.cos(f))\n",
    "gamma_deg = math.degrees(math.atan(tan_gamma))\n",
    "\n",
    "# Print results\n",
    "print(f\"(a) Semimajor axis a      = {a:,.5f} km\")\n",
    "print(f\"(b) Eccentricity e        = {e:.6f}\")\n",
    "print(f\"(c) Angular momentum h    = {h:,.2f} km^2/s\")\n",
    "print(f\"(d) Altitude at f=120 deg = {alt_f:,.2f} km\")\n",
    "print(f\"(e) Flight-path angle γ   = {gamma_deg:.4f} deg\")"
   ]
  }
 ],
 "metadata": {
  "kernelspec": {
   "display_name": "ae483",
   "language": "python",
   "name": "python3"
  },
  "language_info": {
   "name": "python",
   "version": "3.12.5"
  }
 },
 "nbformat": 4,
 "nbformat_minor": 5
}
